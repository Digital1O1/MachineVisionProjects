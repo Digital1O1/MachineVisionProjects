{
 "cells": [
  {
   "cell_type": "code",
   "execution_count": null,
   "id": "2e6e3824",
   "metadata": {},
   "outputs": [
    {
     "name": "stderr",
     "output_type": "stream",
     "text": [
      "2025-04-13 21:11:26.102468: E external/local_xla/xla/stream_executor/cuda/cuda_fft.cc:477] Unable to register cuFFT factory: Attempting to register factory for plugin cuFFT when one has already been registered\n",
      "WARNING: All log messages before absl::InitializeLog() is called are written to STDERR\n",
      "E0000 00:00:1744596686.208827   11896 cuda_dnn.cc:8310] Unable to register cuDNN factory: Attempting to register factory for plugin cuDNN when one has already been registered\n",
      "E0000 00:00:1744596686.238040   11896 cuda_blas.cc:1418] Unable to register cuBLAS factory: Attempting to register factory for plugin cuBLAS when one has already been registered\n",
      "2025-04-13 21:11:26.507837: I tensorflow/core/platform/cpu_feature_guard.cc:210] This TensorFlow binary is optimized to use available CPU instructions in performance-critical operations.\n",
      "To enable the following instructions: AVX2 FMA, in other operations, rebuild TensorFlow with the appropriate compiler flags.\n"
     ]
    }
   ],
   "source": [
    "import tensorflow as tf \n",
    "import matplotlib as plt \n"
   ]
  },
  {
   "cell_type": "code",
   "execution_count": 3,
   "id": "bf569e51",
   "metadata": {},
   "outputs": [
    {
     "name": "stdout",
     "output_type": "stream",
     "text": [
      "Shape of training data: (50000, 32, 32, 3)\n",
      "Shape of training labels: (50000, 1)\n",
      "Shape of test data: (10000, 32, 32, 3)\n",
      "Shape of test labels: (10000, 1)\n"
     ]
    }
   ],
   "source": [
    "\n",
    "(x_train, y_train), (x_test, y_test) = tf.keras.datasets.cifar10.load_data()\n",
    "\n",
    "print(\"Shape of training data:\", x_train.shape)\n",
    "print(\"Shape of training labels:\", y_train.shape)\n",
    "print(\"Shape of test data:\", x_test.shape)\n",
    "print(\"Shape of test labels:\", y_test.shape)"
   ]
  },
  {
   "cell_type": "markdown",
   "id": "07c4f32a",
   "metadata": {},
   "source": [
    "# To do \n",
    "- Add noise to images \n",
    "  - Try just 10 images for now\n",
    "- Save both the `noisy` and `orignal` images"
   ]
  },
  {
   "cell_type": "code",
   "execution_count": null,
   "id": "20324946",
   "metadata": {},
   "outputs": [],
   "source": []
  }
 ],
 "metadata": {
  "kernelspec": {
   "display_name": "Python 3",
   "language": "python",
   "name": "python3"
  },
  "language_info": {
   "codemirror_mode": {
    "name": "ipython",
    "version": 3
   },
   "file_extension": ".py",
   "mimetype": "text/x-python",
   "name": "python",
   "nbconvert_exporter": "python",
   "pygments_lexer": "ipython3",
   "version": "3.10.12"
  }
 },
 "nbformat": 4,
 "nbformat_minor": 5
}
